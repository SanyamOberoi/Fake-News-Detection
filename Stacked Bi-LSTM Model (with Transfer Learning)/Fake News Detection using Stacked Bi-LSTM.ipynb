{
 "cells": [
  {
   "cell_type": "markdown",
   "metadata": {},
   "source": [
    "## Fake News Detection using Stacked Bi-LSTM"
   ]
  },
  {
   "cell_type": "markdown",
   "metadata": {},
   "source": [
    "### Importing libraries"
   ]
  },
  {
   "cell_type": "code",
   "execution_count": 56,
   "metadata": {},
   "outputs": [],
   "source": [
    "# Library imports\n",
    "import pandas as pd\n",
    "import numpy as np\n",
    "import os\n",
    "import nltk\n",
    "import spacy\n",
    "import tensorflow as tf\n",
    "from tensorflow import keras\n",
    "from langdetect import detect\n",
    "from html.parser import HTMLParser\n",
    "import re\n",
    "from nltk.stem import WordNetLemmatizer\n",
    "from keras.preprocessing.text import Tokenizer\n",
    "from keras.preprocessing.sequence import pad_sequences\n",
    "from keras.models import Sequential\n",
    "from keras.layers import Dense, Embedding, LSTM, Bidirectional\n",
    "from keras.utils import to_categorical\n",
    "import gensim.downloader as api\n",
    "import gzip\n",
    "import dill\n",
    "import matplotlib.pyplot as plt\n",
    "from sklearn.metrics import confusion_matrix, classification_report\n",
    "from sklearn.model_selection import train_test_split"
   ]
  },
  {
   "cell_type": "code",
   "execution_count": 57,
   "metadata": {},
   "outputs": [],
   "source": [
    "# Setting working directory\n",
    "os.chdir(r'C:\\Users\\sanyam.oberoi\\OneDrive - Wolters Kluwer\\Desktop\\Personal\\Fake News Detection\\fake-news')"
   ]
  },
  {
   "cell_type": "markdown",
   "metadata": {},
   "source": [
    "### Reading data"
   ]
  },
  {
   "cell_type": "code",
   "execution_count": 58,
   "metadata": {},
   "outputs": [
    {
     "name": "stdout",
     "output_type": "stream",
     "text": [
      "(20800, 5)\n",
      "(5200, 4)\n"
     ]
    }
   ],
   "source": [
    "# Reading data\n",
    "train_df = pd.read_csv('train.csv')\n",
    "test_df = pd.read_csv('test.csv')\n",
    "\n",
    "print(train_df.shape)\n",
    "print(test_df.shape)"
   ]
  },
  {
   "cell_type": "code",
   "execution_count": 59,
   "metadata": {},
   "outputs": [
    {
     "name": "stdout",
     "output_type": "stream",
     "text": [
      "<class 'pandas.core.frame.DataFrame'>\n",
      "RangeIndex: 20800 entries, 0 to 20799\n",
      "Data columns (total 5 columns):\n",
      " #   Column  Non-Null Count  Dtype \n",
      "---  ------  --------------  ----- \n",
      " 0   id      20800 non-null  int64 \n",
      " 1   title   20242 non-null  object\n",
      " 2   author  18843 non-null  object\n",
      " 3   text    20761 non-null  object\n",
      " 4   label   20800 non-null  int64 \n",
      "dtypes: int64(2), object(3)\n",
      "memory usage: 812.6+ KB\n"
     ]
    }
   ],
   "source": [
    "train_df.info()"
   ]
  },
  {
   "cell_type": "code",
   "execution_count": 60,
   "metadata": {},
   "outputs": [
    {
     "data": {
      "text/plain": [
       "id           0\n",
       "title      558\n",
       "author    1957\n",
       "text        39\n",
       "label        0\n",
       "dtype: int64"
      ]
     },
     "execution_count": 60,
     "metadata": {},
     "output_type": "execute_result"
    }
   ],
   "source": [
    "# Finding count of NA values in train data\n",
    "train_df.isna().sum()"
   ]
  },
  {
   "cell_type": "code",
   "execution_count": 61,
   "metadata": {},
   "outputs": [
    {
     "name": "stdout",
     "output_type": "stream",
     "text": [
      "<class 'pandas.core.frame.DataFrame'>\n",
      "RangeIndex: 5200 entries, 0 to 5199\n",
      "Data columns (total 4 columns):\n",
      " #   Column  Non-Null Count  Dtype \n",
      "---  ------  --------------  ----- \n",
      " 0   id      5200 non-null   int64 \n",
      " 1   title   5078 non-null   object\n",
      " 2   author  4697 non-null   object\n",
      " 3   text    5193 non-null   object\n",
      "dtypes: int64(1), object(3)\n",
      "memory usage: 162.6+ KB\n"
     ]
    }
   ],
   "source": [
    "test_df.info()"
   ]
  },
  {
   "cell_type": "code",
   "execution_count": 62,
   "metadata": {},
   "outputs": [
    {
     "data": {
      "text/plain": [
       "id          0\n",
       "title     122\n",
       "author    503\n",
       "text        7\n",
       "dtype: int64"
      ]
     },
     "execution_count": 62,
     "metadata": {},
     "output_type": "execute_result"
    }
   ],
   "source": [
    "# Finding count of NA values in pred data\n",
    "test_df.isna().sum()"
   ]
  },
  {
   "cell_type": "code",
   "execution_count": 64,
   "metadata": {},
   "outputs": [
    {
     "data": {
      "text/html": [
       "<div>\n",
       "<style scoped>\n",
       "    .dataframe tbody tr th:only-of-type {\n",
       "        vertical-align: middle;\n",
       "    }\n",
       "\n",
       "    .dataframe tbody tr th {\n",
       "        vertical-align: top;\n",
       "    }\n",
       "\n",
       "    .dataframe thead th {\n",
       "        text-align: right;\n",
       "    }\n",
       "</style>\n",
       "<table border=\"1\" class=\"dataframe\">\n",
       "  <thead>\n",
       "    <tr style=\"text-align: right;\">\n",
       "      <th></th>\n",
       "      <th>id</th>\n",
       "      <th>title</th>\n",
       "      <th>author</th>\n",
       "      <th>text</th>\n",
       "      <th>label</th>\n",
       "    </tr>\n",
       "  </thead>\n",
       "  <tbody>\n",
       "    <tr>\n",
       "      <th>3867</th>\n",
       "      <td>3867</td>\n",
       "      <td>No Prison Time for White Football Player Accus...</td>\n",
       "      <td>Dylan Gwinn</td>\n",
       "      <td>A white football player from Idaho will not fa...</td>\n",
       "      <td>0</td>\n",
       "    </tr>\n",
       "    <tr>\n",
       "      <th>4021</th>\n",
       "      <td>4021</td>\n",
       "      <td>The Middle East Crises Trump Inherits Could St...</td>\n",
       "      <td>Patrick Cockburn</td>\n",
       "      <td>Here's something interesting from The Unz Revi...</td>\n",
       "      <td>1</td>\n",
       "    </tr>\n",
       "    <tr>\n",
       "      <th>13687</th>\n",
       "      <td>13687</td>\n",
       "      <td>Now More Than Ever, We Must Tell the Truth Abo...</td>\n",
       "      <td>NaN</td>\n",
       "      <td>We Must Tell the Truth About the Iraq War Post...</td>\n",
       "      <td>1</td>\n",
       "    </tr>\n",
       "    <tr>\n",
       "      <th>10562</th>\n",
       "      <td>10562</td>\n",
       "      <td>130,000 Americans demand to forbid Soros manip...</td>\n",
       "      <td>NaN</td>\n",
       "      <td>130,000 Americans demand to forbid Soros manip...</td>\n",
       "      <td>1</td>\n",
       "    </tr>\n",
       "    <tr>\n",
       "      <th>7773</th>\n",
       "      <td>7773</td>\n",
       "      <td>The Hodges &amp; Hagmann Hour- America’s Last Chan...</td>\n",
       "      <td>Dave Hodges</td>\n",
       "      <td>\\nDoug Hagmann\\n \\nThe recent show in which Do...</td>\n",
       "      <td>1</td>\n",
       "    </tr>\n",
       "    <tr>\n",
       "      <th>20516</th>\n",
       "      <td>20516</td>\n",
       "      <td>‘What if You Weren’t Afraid?’ and 4 More Money...</td>\n",
       "      <td>Ron Lieber</td>\n",
       "      <td>mothers.   fathers. Disapproving elders. Par...</td>\n",
       "      <td>0</td>\n",
       "    </tr>\n",
       "    <tr>\n",
       "      <th>13260</th>\n",
       "      <td>13260</td>\n",
       "      <td>GLOBAL WARMING ALARMISTS DISAPPOINTED THAT HUR...</td>\n",
       "      <td>Iron Sheik</td>\n",
       "      <td>Home › SCIENCE &amp; TECHNOLOGY › GLOBAL WARMING A...</td>\n",
       "      <td>1</td>\n",
       "    </tr>\n",
       "    <tr>\n",
       "      <th>7160</th>\n",
       "      <td>7160</td>\n",
       "      <td>Turkish Government Arrests Opposition Parliame...</td>\n",
       "      <td>NaN</td>\n",
       "      <td>Turkish Government Arrests Opposition Parliame...</td>\n",
       "      <td>1</td>\n",
       "    </tr>\n",
       "    <tr>\n",
       "      <th>7736</th>\n",
       "      <td>7736</td>\n",
       "      <td>Exclusive: Opposition Leader: Albania’s Soros-...</td>\n",
       "      <td>Neil W. McCabe</td>\n",
       "      <td>The leader of the   opposition in Albania told...</td>\n",
       "      <td>0</td>\n",
       "    </tr>\n",
       "    <tr>\n",
       "      <th>7839</th>\n",
       "      <td>7839</td>\n",
       "      <td>Bill Maher Apologizes for Using Racial Slur on...</td>\n",
       "      <td>Daniel Nussbaum</td>\n",
       "      <td>Real Time host Bill Maher has issued an apolog...</td>\n",
       "      <td>0</td>\n",
       "    </tr>\n",
       "  </tbody>\n",
       "</table>\n",
       "</div>"
      ],
      "text/plain": [
       "          id                                              title  \\\n",
       "3867    3867  No Prison Time for White Football Player Accus...   \n",
       "4021    4021  The Middle East Crises Trump Inherits Could St...   \n",
       "13687  13687  Now More Than Ever, We Must Tell the Truth Abo...   \n",
       "10562  10562  130,000 Americans demand to forbid Soros manip...   \n",
       "7773    7773  The Hodges & Hagmann Hour- America’s Last Chan...   \n",
       "20516  20516  ‘What if You Weren’t Afraid?’ and 4 More Money...   \n",
       "13260  13260  GLOBAL WARMING ALARMISTS DISAPPOINTED THAT HUR...   \n",
       "7160    7160  Turkish Government Arrests Opposition Parliame...   \n",
       "7736    7736  Exclusive: Opposition Leader: Albania’s Soros-...   \n",
       "7839    7839  Bill Maher Apologizes for Using Racial Slur on...   \n",
       "\n",
       "                 author                                               text  \\\n",
       "3867        Dylan Gwinn  A white football player from Idaho will not fa...   \n",
       "4021   Patrick Cockburn  Here's something interesting from The Unz Revi...   \n",
       "13687               NaN  We Must Tell the Truth About the Iraq War Post...   \n",
       "10562               NaN  130,000 Americans demand to forbid Soros manip...   \n",
       "7773        Dave Hodges  \\nDoug Hagmann\\n \\nThe recent show in which Do...   \n",
       "20516        Ron Lieber    mothers.   fathers. Disapproving elders. Par...   \n",
       "13260        Iron Sheik  Home › SCIENCE & TECHNOLOGY › GLOBAL WARMING A...   \n",
       "7160                NaN  Turkish Government Arrests Opposition Parliame...   \n",
       "7736     Neil W. McCabe  The leader of the   opposition in Albania told...   \n",
       "7839    Daniel Nussbaum  Real Time host Bill Maher has issued an apolog...   \n",
       "\n",
       "       label  \n",
       "3867       0  \n",
       "4021       1  \n",
       "13687      1  \n",
       "10562      1  \n",
       "7773       1  \n",
       "20516      0  \n",
       "13260      1  \n",
       "7160       1  \n",
       "7736       0  \n",
       "7839       0  "
      ]
     },
     "execution_count": 64,
     "metadata": {},
     "output_type": "execute_result"
    }
   ],
   "source": [
    "# Checking how the data looks\n",
    "train_df.sample(10)"
   ]
  },
  {
   "cell_type": "code",
   "execution_count": 66,
   "metadata": {},
   "outputs": [
    {
     "data": {
      "text/plain": [
       "1    10413\n",
       "0    10387\n",
       "Name: label, dtype: int64"
      ]
     },
     "execution_count": 66,
     "metadata": {},
     "output_type": "execute_result"
    }
   ],
   "source": [
    "# Checking if there is class imbalance in data\n",
    "train_df['label'].value_counts()"
   ]
  },
  {
   "cell_type": "code",
   "execution_count": 68,
   "metadata": {},
   "outputs": [
    {
     "data": {
      "text/plain": [
       "(20691, 4)"
      ]
     },
     "execution_count": 68,
     "metadata": {},
     "output_type": "execute_result"
    }
   ],
   "source": [
    "# Making a copy of input data for backup purposes\n",
    "tr_df = train_df.copy()\n",
    "\n",
    "# Dropping duplicate records from input train data\n",
    "tr_df1 = tr_df[['title','author','text','label']].drop_duplicates()\n",
    "tr_df1.shape"
   ]
  },
  {
   "cell_type": "code",
   "execution_count": 69,
   "metadata": {},
   "outputs": [],
   "source": [
    "# Resetting the index\n",
    "tr_df1 = tr_df1.reset_index(drop=True)"
   ]
  },
  {
   "cell_type": "markdown",
   "metadata": {},
   "source": [
    "### Exploratory Data Analysis"
   ]
  },
  {
   "cell_type": "code",
   "execution_count": 15,
   "metadata": {},
   "outputs": [],
   "source": [
    "# Finding article count corresponding to authors\n",
    "author_df = tr_df1['author'].value_counts().reset_index(name='Article count')"
   ]
  },
  {
   "cell_type": "code",
   "execution_count": 16,
   "metadata": {},
   "outputs": [
    {
     "data": {
      "text/plain": [
       "(4201, 2)"
      ]
     },
     "execution_count": 16,
     "metadata": {},
     "output_type": "execute_result"
    }
   ],
   "source": [
    "author_df.shape"
   ]
  },
  {
   "cell_type": "code",
   "execution_count": 17,
   "metadata": {},
   "outputs": [
    {
     "data": {
      "text/plain": [
       "1567"
      ]
     },
     "execution_count": 17,
     "metadata": {},
     "output_type": "execute_result"
    }
   ],
   "source": [
    "# Less than half of all the authors have more than 1 news article associated with them\n",
    "(author_df['Article count'] > 1).sum()"
   ]
  },
  {
   "cell_type": "code",
   "execution_count": 18,
   "metadata": {},
   "outputs": [],
   "source": [
    "author_df['author word count'] = author_df['index'].apply(lambda x: len(x.split()))"
   ]
  },
  {
   "cell_type": "code",
   "execution_count": 19,
   "metadata": {},
   "outputs": [],
   "source": [
    "# Wherever # of words in author name > 15, label is '1' -> unreliable (upon looking, these records have data placed under wrong headers)\n",
    "check_authors = author_df.loc[author_df['author word count'] > 15,'index']"
   ]
  },
  {
   "cell_type": "code",
   "execution_count": 20,
   "metadata": {},
   "outputs": [
    {
     "data": {
      "text/plain": [
       "1    31\n",
       "Name: label, dtype: int64"
      ]
     },
     "execution_count": 20,
     "metadata": {},
     "output_type": "execute_result"
    }
   ],
   "source": [
    "tr_df1.loc[tr_df1['author'].isin(check_authors),'label'].value_counts()"
   ]
  },
  {
   "cell_type": "markdown",
   "metadata": {},
   "source": [
    "#### 1) Checking if authors who are associated with multiple news articles are more reliable?"
   ]
  },
  {
   "cell_type": "code",
   "execution_count": 21,
   "metadata": {},
   "outputs": [
    {
     "data": {
      "text/plain": [
       "(1565,)"
      ]
     },
     "execution_count": 21,
     "metadata": {},
     "output_type": "execute_result"
    }
   ],
   "source": [
    "# Checking for authors that have multiple articles associated to them (and have author word count <= 15) -> are more frequent authors more relaible?\n",
    "multiple_article_authors = author_df.loc[(author_df['Article count'] > 1) & (author_df['author word count'] <= 15),'index']\n",
    "multiple_article_authors.shape"
   ]
  },
  {
   "cell_type": "code",
   "execution_count": 22,
   "metadata": {},
   "outputs": [
    {
     "data": {
      "text/plain": [
       "1563"
      ]
     },
     "execution_count": 22,
     "metadata": {},
     "output_type": "execute_result"
    }
   ],
   "source": [
    "# Removing 'admin' and 'Anonymous' from the set of multiple_article_authors\n",
    "multiple_article_authors1 = list(set(multiple_article_authors) - {'admin','Anonymous'})\n",
    "len(multiple_article_authors1)"
   ]
  },
  {
   "cell_type": "code",
   "execution_count": 23,
   "metadata": {},
   "outputs": [
    {
     "data": {
      "text/plain": [
       "0    8959\n",
       "1    6928\n",
       "Name: label, dtype: int64"
      ]
     },
     "execution_count": 23,
     "metadata": {},
     "output_type": "execute_result"
    }
   ],
   "source": [
    "# This reflects more frequent authors are more reliable than first time authors (this reliability proportion goes up even more as we increase article count to >= 5)\n",
    "tr_df1.loc[tr_df1['author'].isin(multiple_article_authors1),'label'].value_counts()"
   ]
  },
  {
   "cell_type": "markdown",
   "metadata": {},
   "source": [
    "#### 2) Checking if news articles that have more than 1 author are more reliable?"
   ]
  },
  {
   "cell_type": "code",
   "execution_count": 24,
   "metadata": {},
   "outputs": [],
   "source": [
    "author_df['No. of authors'] = author_df['index'].apply(lambda x: len(x.split(',')))"
   ]
  },
  {
   "cell_type": "code",
   "execution_count": 25,
   "metadata": {},
   "outputs": [],
   "source": [
    "multiple_authors = author_df.loc[author_df['No. of authors'] > 1,'index']"
   ]
  },
  {
   "cell_type": "code",
   "execution_count": 26,
   "metadata": {},
   "outputs": [
    {
     "data": {
      "text/plain": [
       "0    335\n",
       "1     81\n",
       "Name: label, dtype: int64"
      ]
     },
     "execution_count": 26,
     "metadata": {},
     "output_type": "execute_result"
    }
   ],
   "source": [
    "# This reflects that reliability proportion shoots up drastically when multiple authors are associated with a news article\n",
    "tr_df1.loc[tr_df1['author'].isin(multiple_authors),'label'].value_counts()"
   ]
  },
  {
   "cell_type": "markdown",
   "metadata": {},
   "source": [
    "#### 3) Checking if news articles associated with 'admin' and 'Anonymous' authors are less reliable?"
   ]
  },
  {
   "cell_type": "code",
   "execution_count": 27,
   "metadata": {},
   "outputs": [
    {
     "data": {
      "text/plain": [
       "1    232\n",
       "Name: label, dtype: int64"
      ]
     },
     "execution_count": 27,
     "metadata": {},
     "output_type": "execute_result"
    }
   ],
   "source": [
    "# Wherever the 'author' name is either 'admin' or 'Anonymous', article is unreliable\n",
    "tr_df1.loc[tr_df1['author'].isin(['admin','Anonymous']),'label'].value_counts()"
   ]
  },
  {
   "cell_type": "markdown",
   "metadata": {},
   "source": [
    "#### 4) Effect of Title being present/absent on reliability?"
   ]
  },
  {
   "cell_type": "code",
   "execution_count": 28,
   "metadata": {},
   "outputs": [
    {
     "data": {
      "text/plain": [
       "1    518\n",
       "Name: label, dtype: int64"
      ]
     },
     "execution_count": 28,
     "metadata": {},
     "output_type": "execute_result"
    }
   ],
   "source": [
    "# All the articles which have their title missing are unreliable\n",
    "tr_df1.loc[tr_df1['title'].isna(),'label'].value_counts()"
   ]
  },
  {
   "cell_type": "markdown",
   "metadata": {},
   "source": [
    "#### 5) Checking if the Title word count differ across Real and Fake articles?"
   ]
  },
  {
   "cell_type": "code",
   "execution_count": 70,
   "metadata": {},
   "outputs": [],
   "source": [
    "# Checking word count in title across real and fake articles\n",
    "tr_df1['title_word_count'] = tr_df1['title'].apply(lambda x: len(str(x).split()))\n",
    "tr_df1['text_word_count'] = tr_df1['text'].apply(lambda x: len(str(x).split()))\n",
    "\n",
    "tr_df1.loc[tr_df1['title'].isna(),'title_word_count'] = 0\n",
    "tr_df1.loc[tr_df1['text'].isna(),'text_word_count'] = 0"
   ]
  },
  {
   "cell_type": "code",
   "execution_count": 71,
   "metadata": {},
   "outputs": [],
   "source": [
    "%matplotlib inline\n",
    "import matplotlib.pyplot as plt"
   ]
  },
  {
   "cell_type": "code",
   "execution_count": 72,
   "metadata": {},
   "outputs": [
    {
     "data": {
      "text/plain": [
       "<matplotlib.axes._subplots.AxesSubplot at 0x258a57a9c88>"
      ]
     },
     "execution_count": 72,
     "metadata": {},
     "output_type": "execute_result"
    },
    {
     "data": {
      "image/png": "[encoded data removed]",
      "text/plain": [
       "<Figure size 432x288 with 1 Axes>"
      ]
     },
     "metadata": {
      "needs_background": "light"
     },
     "output_type": "display_data"
    }
   ],
   "source": [
    "# Interquartile range of title_word_count for reliable articles is higher than that of fake articles (fake articles have lesser title text for quite a high proportion of articles) \n",
    "tr_df1[['label','title_word_count']].boxplot(by='label')"
   ]
  },
  {
   "cell_type": "code",
   "execution_count": 73,
   "metadata": {},
   "outputs": [
    {
     "data": {
      "text/html": [
       "<div>\n",
       "<style scoped>\n",
       "    .dataframe tbody tr th:only-of-type {\n",
       "        vertical-align: middle;\n",
       "    }\n",
       "\n",
       "    .dataframe tbody tr th {\n",
       "        vertical-align: top;\n",
       "    }\n",
       "\n",
       "    .dataframe thead tr th {\n",
       "        text-align: left;\n",
       "    }\n",
       "\n",
       "    .dataframe thead tr:last-of-type th {\n",
       "        text-align: right;\n",
       "    }\n",
       "</style>\n",
       "<table border=\"1\" class=\"dataframe\">\n",
       "  <thead>\n",
       "    <tr>\n",
       "      <th></th>\n",
       "      <th colspan=\"8\" halign=\"left\">title_word_count</th>\n",
       "      <th colspan=\"8\" halign=\"left\">text_word_count</th>\n",
       "    </tr>\n",
       "    <tr>\n",
       "      <th></th>\n",
       "      <th>count</th>\n",
       "      <th>mean</th>\n",
       "      <th>std</th>\n",
       "      <th>min</th>\n",
       "      <th>25%</th>\n",
       "      <th>50%</th>\n",
       "      <th>75%</th>\n",
       "      <th>max</th>\n",
       "      <th>count</th>\n",
       "      <th>mean</th>\n",
       "      <th>std</th>\n",
       "      <th>min</th>\n",
       "      <th>25%</th>\n",
       "      <th>50%</th>\n",
       "      <th>75%</th>\n",
       "      <th>max</th>\n",
       "    </tr>\n",
       "    <tr>\n",
       "      <th>label</th>\n",
       "      <th></th>\n",
       "      <th></th>\n",
       "      <th></th>\n",
       "      <th></th>\n",
       "      <th></th>\n",
       "      <th></th>\n",
       "      <th></th>\n",
       "      <th></th>\n",
       "      <th></th>\n",
       "      <th></th>\n",
       "      <th></th>\n",
       "      <th></th>\n",
       "      <th></th>\n",
       "      <th></th>\n",
       "      <th></th>\n",
       "      <th></th>\n",
       "    </tr>\n",
       "  </thead>\n",
       "  <tbody>\n",
       "    <tr>\n",
       "      <th>0</th>\n",
       "      <td>10387.0</td>\n",
       "      <td>13.665929</td>\n",
       "      <td>2.914845</td>\n",
       "      <td>4.0</td>\n",
       "      <td>12.0</td>\n",
       "      <td>14.0</td>\n",
       "      <td>16.0</td>\n",
       "      <td>30.0</td>\n",
       "      <td>10387.0</td>\n",
       "      <td>878.996534</td>\n",
       "      <td>739.375488</td>\n",
       "      <td>1.0</td>\n",
       "      <td>400.0</td>\n",
       "      <td>773.0</td>\n",
       "      <td>1180.5</td>\n",
       "      <td>14641.0</td>\n",
       "    </tr>\n",
       "    <tr>\n",
       "      <th>1</th>\n",
       "      <td>10304.0</td>\n",
       "      <td>10.553863</td>\n",
       "      <td>5.198871</td>\n",
       "      <td>0.0</td>\n",
       "      <td>8.0</td>\n",
       "      <td>10.0</td>\n",
       "      <td>13.0</td>\n",
       "      <td>72.0</td>\n",
       "      <td>10304.0</td>\n",
       "      <td>635.994856</td>\n",
       "      <td>969.276963</td>\n",
       "      <td>0.0</td>\n",
       "      <td>171.0</td>\n",
       "      <td>381.0</td>\n",
       "      <td>788.0</td>\n",
       "      <td>24234.0</td>\n",
       "    </tr>\n",
       "  </tbody>\n",
       "</table>\n",
       "</div>"
      ],
      "text/plain": [
       "      title_word_count                                                    \\\n",
       "                 count       mean       std  min   25%   50%   75%   max   \n",
       "label                                                                      \n",
       "0              10387.0  13.665929  2.914845  4.0  12.0  14.0  16.0  30.0   \n",
       "1              10304.0  10.553863  5.198871  0.0   8.0  10.0  13.0  72.0   \n",
       "\n",
       "      text_word_count                                                     \\\n",
       "                count        mean         std  min    25%    50%     75%   \n",
       "label                                                                      \n",
       "0             10387.0  878.996534  739.375488  1.0  400.0  773.0  1180.5   \n",
       "1             10304.0  635.994856  969.276963  0.0  171.0  381.0   788.0   \n",
       "\n",
       "                \n",
       "           max  \n",
       "label           \n",
       "0      14641.0  \n",
       "1      24234.0  "
      ]
     },
     "execution_count": 73,
     "metadata": {},
     "output_type": "execute_result"
    }
   ],
   "source": [
    "tr_df1.groupby('label')[['title_word_count','text_word_count']].describe()"
   ]
  },
  {
   "cell_type": "code",
   "execution_count": 74,
   "metadata": {},
   "outputs": [
    {
     "data": {
      "text/plain": [
       "<matplotlib.axes._subplots.AxesSubplot at 0x2591297c348>"
      ]
     },
     "execution_count": 74,
     "metadata": {},
     "output_type": "execute_result"
    },
    {
     "data": {
      "image/png": "[encoded data removed]",
      "text/plain": [
       "<Figure size 432x288 with 1 Axes>"
      ]
     },
     "metadata": {
      "needs_background": "light"
     },
     "output_type": "display_data"
    }
   ],
   "source": [
    "# Interquartile range of text_word_count for reliable articles is higher than that of fake articles (fake articles have lesser text for quite a high proportion of articles) \n",
    "tr_df1[['label','text_word_count']].boxplot(by='label')"
   ]
  },
  {
   "cell_type": "markdown",
   "metadata": {},
   "source": [
    "#### 6) Effect of Text being present/absent on reliability and also checking for presence of languages other than English?"
   ]
  },
  {
   "cell_type": "code",
   "execution_count": 75,
   "metadata": {},
   "outputs": [],
   "source": [
    "tr_df1['language_text'] = np.where((tr_df1['text'].isna()) | (tr_df1['text'] == ' '),'Empty',detect(str(tr_df1['text'])))"
   ]
  },
  {
   "cell_type": "code",
   "execution_count": 76,
   "metadata": {},
   "outputs": [
    {
     "data": {
      "text/plain": [
       "1    112\n",
       "Name: label, dtype: int64"
      ]
     },
     "execution_count": 76,
     "metadata": {},
     "output_type": "execute_result"
    }
   ],
   "source": [
    "# Wherever the text of article is missing, all such articles are unreliable\n",
    "tr_df1.loc[tr_df1['language_text'] == 'Empty','label'].value_counts()"
   ]
  },
  {
   "cell_type": "markdown",
   "metadata": {},
   "source": [
    "#### 7) Checking for reliability of articles where author name contains '.com'?"
   ]
  },
  {
   "cell_type": "code",
   "execution_count": 36,
   "metadata": {},
   "outputs": [
    {
     "data": {
      "text/plain": [
       "1    475\n",
       "Name: label, dtype: int64"
      ]
     },
     "execution_count": 36,
     "metadata": {},
     "output_type": "execute_result"
    }
   ],
   "source": [
    "# All articles that have '.com' in their author name are unreliable\n",
    "auth_check = author_df.loc[author_df['index'].str.find('.com') != -1,'index']\n",
    "\n",
    "tr_df1.loc[tr_df1['author'].isin(auth_check),'label'].value_counts()"
   ]
  },
  {
   "cell_type": "markdown",
   "metadata": {},
   "source": [
    "#### 8) Checking if presence of certain Named Entities in news Title makes it more authentic/reliable?"
   ]
  },
  {
   "cell_type": "code",
   "execution_count": 77,
   "metadata": {},
   "outputs": [],
   "source": [
    "# Loading spacy's English Large model\n",
    "nlp = spacy.load(\"en_core_web_lg\")"
   ]
  },
  {
   "cell_type": "code",
   "execution_count": 78,
   "metadata": {},
   "outputs": [],
   "source": [
    "# Function to return all named entities present in a string\n",
    "def named_entities(txt):\n",
    "    if (txt is not None) and (txt != ''):\n",
    "        doc = nlp(str(txt))\n",
    "        l = []\n",
    "        for ent in doc.ents:\n",
    "            l.append(ent.label_)\n",
    "        return l\n",
    "    else:\n",
    "        return []\n",
    "\n",
    "tr_df1['named_entities'] = tr_df1['title'].apply(lambda x: named_entities(x))"
   ]
  },
  {
   "cell_type": "code",
   "execution_count": 79,
   "metadata": {},
   "outputs": [],
   "source": [
    "new_lst = []\n",
    "for x in tr_df1['named_entities']:\n",
    "    for y in x:\n",
    "        new_lst.append(y)"
   ]
  },
  {
   "cell_type": "code",
   "execution_count": 80,
   "metadata": {},
   "outputs": [],
   "source": [
    "from collections import Counter\n",
    "cntr = Counter(new_lst)"
   ]
  },
  {
   "cell_type": "code",
   "execution_count": 81,
   "metadata": {},
   "outputs": [],
   "source": [
    "# Creating a column for each unique Named Entity found in training corpus\n",
    "for i in cntr:\n",
    "    tr_df1[i] = tr_df1['named_entities'].apply(lambda x: 1 if i in x else 0)"
   ]
  },
  {
   "cell_type": "code",
   "execution_count": 94,
   "metadata": {},
   "outputs": [
    {
     "data": {
      "text/plain": [
       "WORK_OF_ART  label\n",
       "0            1        9635\n",
       "             0        8966\n",
       "1            0        1421\n",
       "             1         669\n",
       "Name: label, dtype: int64"
      ]
     },
     "execution_count": 94,
     "metadata": {},
     "output_type": "execute_result"
    }
   ],
   "source": [
    "# ORG, PERSON, GPE, NORP, WORK_OF_ART -> presence of these entities in article Title lends reliability to it\n",
    "tr_df1.groupby('WORK_OF_ART')['label'].value_counts()"
   ]
  },
  {
   "cell_type": "markdown",
   "metadata": {},
   "source": [
    "#### 9) Checking if presence/absence of Web URLs in article Text lend reliability to it?"
   ]
  },
  {
   "cell_type": "code",
   "execution_count": 82,
   "metadata": {},
   "outputs": [],
   "source": [
    "# Creating meta-data variables -> Counting the no. of URLs present in the text of an article (may lend credibility)\n",
    "url_regex = r\"(?i)\\b((?:https?:(?:\\/{1,3}|[a-z0-9%])|[a-z0-9.\\-]+[.](?:com|net|org|edu|gov|mil|aero|asia|biz|cat|coop|info|int|jobs|mobi|museum|name|post|pro|tel|travel|xxx|ac|ad|ae|af|ag|ai|al|am|an|ao|aq|ar|as|at|au|aw|ax|az|ba|bb|bd|be|bf|bg|bh|bi|bj|bm|bn|bo|br|bs|bt|bv|bw|by|bz|ca|cc|cd|cf|cg|ch|ci|ck|cl|cm|cn|co|cr|cs|cu|cv|cx|cy|cz|dd|de|dj|dk|dm|do|dz|ec|ee|eg|eh|er|es|et|eu|fi|fj|fk|fm|fo|fr|ga|gb|gd|ge|gf|gg|gh|gi|gl|gm|gn|gp|gq|gr|gs|gt|gu|gw|gy|hk|hm|hn|hr|ht|hu|id|ie|il|im|in|io|iq|ir|is|it|je|jm|jo|jp|ke|kg|kh|ki|km|kn|kp|kr|kw|ky|kz|la|lb|lc|li|lk|lr|ls|lt|lu|lv|ly|ma|mc|md|me|mg|mh|mk|ml|mm|mn|mo|mp|mq|mr|ms|mt|mu|mv|mw|mx|my|mz|na|nc|ne|nf|ng|ni|nl|no|np|nr|nu|nz|om|pa|pe|pf|pg|ph|pk|pl|pm|pn|pr|ps|pt|pw|py|qa|re|ro|rs|ru|rw|sa|sb|sc|sd|se|sg|sh|si|sj|Ja|sk|sl|sm|sn|so|sr|ss|st|su|sv|sx|sy|sz|tc|td|tf|tg|th|tj|tk|tl|tm|tn|to|tp|tr|tt|tv|tw|tz|ua|ug|uk|us|uy|uz|va|vc|ve|vg|vi|vn|vu|wf|ws|ye|yt|yu|za|zm|zw)\\/)(?:[^\\s()<>{}\\[\\]]+|\\([^\\s()]*?\\([^\\s()]+\\)[^\\s()]*?\\)|\\([^\\s]+?\\))+(?:\\([^\\s()]*?\\([^\\s()]+\\)[^\\s()]*?\\)|\\([^\\s]+?\\)|[^\\s`!()\\[\\]{};:'\\\".,<>?«»“”‘’])|(?:(?<!@)[a-z0-9]+(?:[.\\-][a-z0-9]+)*[.](?:com|net|org|edu|gov|mil|aero|asia|biz|cat|coop|info|int|jobs|mobi|museum|name|post|pro|tel|travel|xxx|ac|ad|ae|af|ag|ai|al|am|an|ao|aq|ar|as|at|au|aw|ax|az|ba|bb|bd|be|bf|bg|bh|bi|bj|bm|bn|bo|br|bs|bt|bv|bw|by|bz|ca|cc|cd|cf|cg|ch|ci|ck|cl|cm|cn|co|cr|cs|cu|cv|cx|cy|cz|dd|de|dj|dk|dm|do|dz|ec|ee|eg|eh|er|es|et|eu|fi|fj|fk|fm|fo|fr|ga|gb|gd|ge|gf|gg|gh|gi|gl|gm|gn|gp|gq|gr|gs|gt|gu|gw|gy|hk|hm|hn|hr|ht|hu|id|ie|il|im|in|io|iq|ir|is|it|je|jm|jo|jp|ke|kg|kh|ki|km|kn|kp|kr|kw|ky|kz|la|lb|lc|li|lk|lr|ls|lt|lu|lv|ly|ma|mc|md|me|mg|mh|mk|ml|mm|mn|mo|mp|mq|mr|ms|mt|mu|mv|mw|mx|my|mz|na|nc|ne|nf|ng|ni|nl|no|np|nr|nu|nz|om|pa|pe|pf|pg|ph|pk|pl|pm|pn|pr|ps|pt|pw|py|qa|re|ro|rs|ru|rw|sa|sb|sc|sd|se|sg|sh|si|sj|Ja|sk|sl|sm|sn|so|sr|ss|st|su|sv|sx|sy|sz|tc|td|tf|tg|th|tj|tk|tl|tm|tn|to|tp|tr|tt|tv|tw|tz|ua|ug|uk|us|uy|uz|va|vc|ve|vg|vi|vn|vu|wf|ws|ye|yt|yu|za|zm|zw)\\b\\/?(?!@)))\"\n",
    "\n",
    "tr_df1['URL_count'] = tr_df1['text'].apply(lambda x: len(re.findall(url_regex,str(x))))"
   ]
  },
  {
   "cell_type": "code",
   "execution_count": 45,
   "metadata": {},
   "outputs": [
    {
     "data": {
      "text/plain": [
       "1    2561\n",
       "Name: label, dtype: int64"
      ]
     },
     "execution_count": 45,
     "metadata": {},
     "output_type": "execute_result"
    }
   ],
   "source": [
    "# This suggests whenever there is a URL present in an article Text, it is unreliable (contrary to my initial hypothesis)\n",
    "tr_df1.loc[tr_df1['URL_count'] > 0,'label'].value_counts()"
   ]
  },
  {
   "cell_type": "markdown",
   "metadata": {},
   "source": [
    "### Data Pre-Processing"
   ]
  },
  {
   "cell_type": "code",
   "execution_count": 46,
   "metadata": {},
   "outputs": [],
   "source": [
    "html_parser = HTMLParser()\n",
    "\n",
    "# Creating WordNetLemmatizer object \n",
    "lemmatizer = WordNetLemmatizer()\n",
    "\n",
    "# Function for cleaning data\n",
    "def clean_text(text):\n",
    "    text = str(text)\n",
    "    \n",
    "    # Stripping leading and trailing whitespaces from text and lowercasing it\n",
    "    text = text.strip().lower()\n",
    "    \n",
    "    # Converting HTML entities\n",
    "    text = html_parser.unescape(text)\n",
    "    \n",
    "    # Removing web URLs from text\n",
    "    no_url_text = re.sub(url_regex, ' ', text)\n",
    "    \n",
    "    # Removing special characters and digits\n",
    "    alpha_text = re.sub(r'[^a-zA-Z]',' ',no_url_text)\n",
    "    \n",
    "    # Removing multiple spaces\n",
    "    text_cleaned = re.sub(r'\\s+', ' ', alpha_text)\n",
    "    \n",
    "    return text_cleaned\n",
    "\n",
    "\n",
    "# Function for normalizing data\n",
    "def data_normalize(text):\n",
    "    cleaned_text = clean_text(text)\n",
    "    return ' '.join([lemmatizer.lemmatize(word) for word in cleaned_text.split()])"
   ]
  },
  {
   "cell_type": "code",
   "execution_count": 47,
   "metadata": {},
   "outputs": [],
   "source": [
    "# function for tokenizing and padding text sequence\n",
    "def data_prep(data_list, tokenizer, max_len):\n",
    "    data = tokenizer.texts_to_sequences(data_list)\n",
    "    data = pad_sequences(data, padding='post', maxlen=max_len)\n",
    "    return data"
   ]
  },
  {
   "cell_type": "code",
   "execution_count": 95,
   "metadata": {},
   "outputs": [
    {
     "data": {
      "text/plain": [
       "(20173, 29)"
      ]
     },
     "execution_count": 95,
     "metadata": {},
     "output_type": "execute_result"
    }
   ],
   "source": [
    "# Model #1 -> baseline using just 'title' and Stacked Bi-Directional LSTM\n",
    "train_df_mod1 = tr_df1.copy()\n",
    "test_df_mod1 = test_df.copy()\n",
    "\n",
    "# Removing empty records from title\n",
    "train_df_mod1 = train_df_mod1[(train_df_mod1['title'].notna()) & (train_df_mod1['title'] != '')]\n",
    "train_df_mod1.shape"
   ]
  },
  {
   "cell_type": "code",
   "execution_count": 96,
   "metadata": {},
   "outputs": [
    {
     "name": "stderr",
     "output_type": "stream",
     "text": [
      "C:\\Users\\sanyam.oberoi\\AppData\\Local\\Continuum\\anaconda3\\lib\\site-packages\\ipykernel_launcher.py:13: DeprecationWarning: The unescape method is deprecated and will be removed in 3.5, use html.unescape() instead.\n",
      "  del sys.path[0]\n"
     ]
    }
   ],
   "source": [
    "# Normalizing Title of both train/validation and pred data\n",
    "train_df_mod1['normalized_cleaned_title'] = train_df_mod1['title'].apply(lambda x: data_normalize(x))\n",
    "\n",
    "test_df_mod1['normalized_cleaned_title'] = test_df_mod1['title'].apply(lambda x: data_normalize(x))"
   ]
  },
  {
   "cell_type": "code",
   "execution_count": 97,
   "metadata": {},
   "outputs": [],
   "source": [
    "# Checking the distribution of word count in train data 'Title' -> Needed to set the max_seq_length for the model (around 99% records have less than 25 words in their title)\n",
    "train_df_mod1['title_length'] = train_df_mod1['normalized_cleaned_title'].apply(lambda x: len(x.split()))\n",
    "test_df_mod1['title_length'] = test_df_mod1['normalized_cleaned_title'].apply(lambda x: len(x.split()))"
   ]
  },
  {
   "cell_type": "code",
   "execution_count": 98,
   "metadata": {},
   "outputs": [
    {
     "data": {
      "text/plain": [
       "<matplotlib.axes._subplots.AxesSubplot at 0x2590b3a9408>"
      ]
     },
     "execution_count": 98,
     "metadata": {},
     "output_type": "execute_result"
    },
    {
     "data": {
      "image/png": "[encoded data removed]",
      "text/plain": [
       "<Figure size 432x288 with 1 Axes>"
      ]
     },
     "metadata": {
      "needs_background": "light"
     },
     "output_type": "display_data"
    }
   ],
   "source": [
    "# Plotting word count distribution of train data 'Title'\n",
    "train_df_mod1['title_length'].hist(bins=20)"
   ]
  },
  {
   "cell_type": "markdown",
   "metadata": {},
   "source": [
    "### Model Creation"
   ]
  },
  {
   "cell_type": "code",
   "execution_count": 48,
   "metadata": {},
   "outputs": [],
   "source": [
    "# function for model creation (Stacked Bi-LSTM using Transfer Learning (Google Word2Vec embeddings trained on Google News corpus))\n",
    "def create_model(vocab_size, embed_dim, max_len, embedding_matrix):\n",
    "    lstm_out1 = 32\n",
    "    lstm_out2 = 32\n",
    "\n",
    "    model = Sequential()\n",
    "    model.add(Embedding(vocab_size, embed_dim, weights=[embedding_matrix], input_length = max_len, trainable=False, name='embedding_layer')) \n",
    "    model.add(Bidirectional(LSTM(lstm_out1, return_sequences=True, dropout=0.5),merge_mode='concat', name='bi_lstm_layer1'))\n",
    "    model.add(Bidirectional(LSTM(lstm_out2, dropout=0.5), merge_mode='concat', name='bi_lstm_layer2'))\n",
    "    model.add(Dense(1,activation='sigmoid', name='dense'))\n",
    "    return model"
   ]
  },
  {
   "cell_type": "code",
   "execution_count": 55,
   "metadata": {},
   "outputs": [],
   "source": [
    "# Vectorizing text data\n",
    "max_features = 8000 # Train data has approx 10k unique words\n",
    "tokenizer = Tokenizer(num_words=max_features)\n",
    "tokenizer.fit_on_texts(train_df_mod1['normalized_cleaned_title'])\n",
    "\n",
    "# Tokenizing and padding train and test data\n",
    "X_train = tokenizer.texts_to_sequences(train_df_mod1['normalized_cleaned_title'])\n",
    "max_len = 25 # basis word count distribution of train data 'Title'\n",
    "X_train = pad_sequences(X_train, padding='post', maxlen=max_len)\n",
    "\n",
    "X_test = data_prep(test_df_mod1['normalized_cleaned_title'], tokenizer, max_len)"
   ]
  },
  {
   "cell_type": "code",
   "execution_count": 56,
   "metadata": {},
   "outputs": [],
   "source": [
    "y_train = np.array(train_df_mod1['label'])"
   ]
  },
  {
   "cell_type": "code",
   "execution_count": 157,
   "metadata": {},
   "outputs": [
    {
     "name": "stdout",
     "output_type": "stream",
     "text": [
      "C:\\Users\\sanyam.oberoi/gensim-data\\word2vec-google-news-300\\word2vec-google-news-300.gz\n"
     ]
    }
   ],
   "source": [
    "# print(api.load('word2vec-google-news-300', return_path=True))"
   ]
  },
  {
   "cell_type": "markdown",
   "metadata": {},
   "source": [
    "#### Loading and fetching pre-trained word embeddings"
   ]
  },
  {
   "cell_type": "code",
   "execution_count": 56,
   "metadata": {},
   "outputs": [],
   "source": [
    "# Loading pre-trained Word2Vec embeddings\n",
    "vocab_size = len(tokenizer.word_index) + 1\n",
    "embed_dim = 300\n",
    "\n",
    "model = api.load(\"word2vec-google-news-300\")"
   ]
  },
  {
   "cell_type": "code",
   "execution_count": 63,
   "metadata": {},
   "outputs": [
    {
     "name": "stderr",
     "output_type": "stream",
     "text": [
      "C:\\Users\\sanyam.oberoi\\AppData\\Local\\Continuum\\anaconda3\\lib\\site-packages\\ipykernel_launcher.py:1: DeprecationWarning: Call to deprecated `wv` (Attribute will be removed in 4.0.0, use self instead).\n",
      "  \"\"\"Entry point for launching an IPython kernel.\n"
     ]
    }
   ],
   "source": [
    "# Fetching word embeddings for only words present in vocab\n",
    "word_vectors = model.wv\n",
    "\n",
    "embedding_matrix = np.zeros((vocab_size, 300))\n",
    "for word, index in tokenizer.word_index.items():\n",
    "    if word in word_vectors.vocab:\n",
    "        embedding_vector = word_vectors[word]\n",
    "    else:\n",
    "        embedding_vector = None\n",
    "    if embedding_vector is not None:\n",
    "        embedding_matrix[index] = embedding_vector"
   ]
  },
  {
   "cell_type": "code",
   "execution_count": 70,
   "metadata": {},
   "outputs": [],
   "source": [
    "# with gzip.open(r'C:\\Users\\sanyam.oberoi\\OneDrive - Wolters Kluwer\\Desktop\\Personal\\Fake News Detection\\fake-news\\model\\embedding_matrix.dill.gz','wb') as f:\n",
    "#     dill.dump(embedding_matrix,f)"
   ]
  },
  {
   "cell_type": "code",
   "execution_count": 83,
   "metadata": {},
   "outputs": [],
   "source": [
    "os.chdir(r'C:\\Users\\sanyam.oberoi\\OneDrive - Wolters Kluwer\\Desktop\\Personal\\Fake News Detection\\fake-news')"
   ]
  },
  {
   "cell_type": "code",
   "execution_count": 88,
   "metadata": {},
   "outputs": [
    {
     "name": "stdout",
     "output_type": "stream",
     "text": [
      "Model: \"sequential_1\"\n",
      "_________________________________________________________________\n",
      "Layer (type)                 Output Shape              Param #   \n",
      "=================================================================\n",
      "embedding_layer (Embedding)  (None, 25, 300)           5639400   \n",
      "_________________________________________________________________\n",
      "bi_lstm_layer1 (Bidirectiona (None, 25, 64)            85248     \n",
      "_________________________________________________________________\n",
      "bi_lstm_layer2 (Bidirectiona (None, 64)                24832     \n",
      "_________________________________________________________________\n",
      "dense (Dense)                (None, 1)                 65        \n",
      "=================================================================\n",
      "Total params: 5,749,545\n",
      "Trainable params: 110,145\n",
      "Non-trainable params: 5,639,400\n",
      "_________________________________________________________________\n",
      "None\n"
     ]
    }
   ],
   "source": [
    "# Storing embedding matrix (for later use) for only the words present in vocab (helps in reducing the size)\n",
    "with gzip.open(r'model\\embedding_matrix.dill.gz','rb') as f:\n",
    "    embedding_matrix = dill.load(f) \n",
    "\n",
    "# Creating the model\n",
    "model = create_model(vocab_size, embed_dim, max_len, embedding_matrix)\n",
    "model.compile(loss = 'binary_crossentropy', optimizer='adam',metrics = ['accuracy'])\n",
    "\n",
    "print(model.summary())"
   ]
  },
  {
   "cell_type": "markdown",
   "metadata": {},
   "source": [
    "### Model Training"
   ]
  },
  {
   "cell_type": "code",
   "execution_count": 94,
   "metadata": {},
   "outputs": [],
   "source": [
    "# Train and Validation data split\n",
    "X_tr, X_val, y_tr, y_val = train_test_split(X_train, y_train, test_size=0.20, random_state=0, stratify=y_train)"
   ]
  },
  {
   "cell_type": "code",
   "execution_count": 95,
   "metadata": {},
   "outputs": [
    {
     "name": "stdout",
     "output_type": "stream",
     "text": [
      "Epoch 1/20\n",
      "253/253 [==============================] - 9s 36ms/step - loss: 0.1562 - accuracy: 0.9400 - val_loss: 0.1035 - val_accuracy: 0.9668\n",
      "Epoch 2/20\n",
      "253/253 [==============================] - 9s 37ms/step - loss: 0.1399 - accuracy: 0.9449 - val_loss: 0.1057 - val_accuracy: 0.9651\n",
      "Epoch 3/20\n",
      "253/253 [==============================] - 10s 38ms/step - loss: 0.1384 - accuracy: 0.9460 - val_loss: 0.1113 - val_accuracy: 0.9636\n",
      "Epoch 4/20\n",
      "253/253 [==============================] - 10s 38ms/step - loss: 0.1350 - accuracy: 0.9466 - val_loss: 0.1241 - val_accuracy: 0.9544\n",
      "Epoch 5/20\n",
      "253/253 [==============================] - 11s 42ms/step - loss: 0.1293 - accuracy: 0.9483 - val_loss: 0.1171 - val_accuracy: 0.9571\n",
      "Epoch 6/20\n",
      "253/253 [==============================] - 11s 43ms/step - loss: 0.1314 - accuracy: 0.9492 - val_loss: 0.1185 - val_accuracy: 0.9566\n",
      "Epoch 7/20\n",
      "253/253 [==============================] - 10s 41ms/step - loss: 0.1254 - accuracy: 0.9495 - val_loss: 0.1184 - val_accuracy: 0.9579\n",
      "Epoch 8/20\n",
      "253/253 [==============================] - 11s 42ms/step - loss: 0.1259 - accuracy: 0.9500 - val_loss: 0.1177 - val_accuracy: 0.9566\n",
      "Epoch 9/20\n",
      "253/253 [==============================] - 10s 41ms/step - loss: 0.1219 - accuracy: 0.9515 - val_loss: 0.1202 - val_accuracy: 0.9571\n",
      "Epoch 10/20\n",
      "253/253 [==============================] - 10s 40ms/step - loss: 0.1155 - accuracy: 0.9538 - val_loss: 0.1228 - val_accuracy: 0.9574\n",
      "Epoch 11/20\n",
      "253/253 [==============================] - 10s 40ms/step - loss: 0.1187 - accuracy: 0.9502 - val_loss: 0.1295 - val_accuracy: 0.9529\n",
      "Epoch 12/20\n",
      "253/253 [==============================] - 10s 40ms/step - loss: 0.1161 - accuracy: 0.9536 - val_loss: 0.1312 - val_accuracy: 0.9524\n",
      "Epoch 13/20\n",
      "253/253 [==============================] - 10s 39ms/step - loss: 0.1111 - accuracy: 0.9538 - val_loss: 0.1364 - val_accuracy: 0.9494\n",
      "Epoch 14/20\n",
      "253/253 [==============================] - 10s 40ms/step - loss: 0.1124 - accuracy: 0.9549 - val_loss: 0.1330 - val_accuracy: 0.9504\n",
      "Epoch 15/20\n",
      "253/253 [==============================] - 10s 41ms/step - loss: 0.1046 - accuracy: 0.9584 - val_loss: 0.1351 - val_accuracy: 0.9524\n",
      "Epoch 16/20\n",
      "253/253 [==============================] - 10s 40ms/step - loss: 0.1055 - accuracy: 0.9574 - val_loss: 0.1376 - val_accuracy: 0.9502\n",
      "Epoch 17/20\n",
      "253/253 [==============================] - 10s 41ms/step - loss: 0.0954 - accuracy: 0.9628 - val_loss: 0.1418 - val_accuracy: 0.9507\n",
      "Epoch 18/20\n",
      "253/253 [==============================] - 10s 41ms/step - loss: 0.1013 - accuracy: 0.9603 - val_loss: 0.1503 - val_accuracy: 0.9455\n",
      "Epoch 19/20\n",
      "253/253 [==============================] - 10s 39ms/step - loss: 0.0967 - accuracy: 0.9620 - val_loss: 0.1444 - val_accuracy: 0.9489\n",
      "Epoch 20/20\n",
      "253/253 [==============================] - 10s 40ms/step - loss: 0.0974 - accuracy: 0.9618 - val_loss: 0.1427 - val_accuracy: 0.9485\n"
     ]
    }
   ],
   "source": [
    "# Fitting the model\n",
    "history = model.fit(X_tr, y_tr, batch_size=64, epochs=20, verbose=1, validation_data=(X_val,y_val)) # , class_weight="
   ]
  },
  {
   "cell_type": "markdown",
   "metadata": {},
   "source": [
    "### Model Performance Evaluation"
   ]
  },
  {
   "cell_type": "code",
   "execution_count": 105,
   "metadata": {},
   "outputs": [
    {
     "name": "stdout",
     "output_type": "stream",
     "text": [
      "              precision    recall  f1-score   support\n",
      "\n",
      "           0       0.99      0.99      0.99      8309\n",
      "           1       0.99      0.99      0.99      7829\n",
      "\n",
      "    accuracy                           0.99     16138\n",
      "   macro avg       0.99      0.99      0.99     16138\n",
      "weighted avg       0.99      0.99      0.99     16138\n",
      "\n",
      "[[8264   45]\n",
      " [  77 7752]]\n"
     ]
    }
   ],
   "source": [
    "# Model performance on training data\n",
    "print(classification_report(y_true = y_tr,y_pred = model.predict_classes(X_tr)))\n",
    "print(confusion_matrix(y_true = y_tr,y_pred = model.predict_classes(X_tr)))"
   ]
  },
  {
   "cell_type": "code",
   "execution_count": 103,
   "metadata": {},
   "outputs": [
    {
     "name": "stdout",
     "output_type": "stream",
     "text": [
      "              precision    recall  f1-score   support\n",
      "\n",
      "           0       0.95      0.95      0.95      2078\n",
      "           1       0.95      0.95      0.95      1957\n",
      "\n",
      "    accuracy                           0.95      4035\n",
      "   macro avg       0.95      0.95      0.95      4035\n",
      "weighted avg       0.95      0.95      0.95      4035\n",
      "\n",
      "[[1974  104]\n",
      " [ 104 1853]]\n"
     ]
    }
   ],
   "source": [
    "# Model performance on validation data\n",
    "print(classification_report(y_true = y_val,y_pred = model.predict_classes(X_val)))\n",
    "print(confusion_matrix(y_true = y_val,y_pred = model.predict_classes(X_val)))"
   ]
  },
  {
   "cell_type": "code",
   "execution_count": 106,
   "metadata": {},
   "outputs": [
    {
     "data": {
      "image/png": "[encoded data removed]",
      "text/plain": [
       "<Figure size 432x288 with 1 Axes>"
      ]
     },
     "metadata": {
      "needs_background": "light"
     },
     "output_type": "display_data"
    },
    {
     "data": {
      "image/png": "[encoded data removed]",
      "text/plain": [
       "<Figure size 432x288 with 1 Axes>"
      ]
     },
     "metadata": {
      "needs_background": "light"
     },
     "output_type": "display_data"
    }
   ],
   "source": [
    "# Plotting the model performance\n",
    "plt.plot(history.history['accuracy'])\n",
    "plt.plot(history.history['val_accuracy'])\n",
    "\n",
    "plt.title('model accuracy')\n",
    "plt.ylabel('accuracy')\n",
    "plt.xlabel('epoch')\n",
    "plt.legend(['train','val'], loc='upper left')\n",
    "plt.show()\n",
    "\n",
    "plt.plot(history.history['loss'])\n",
    "plt.plot(history.history['val_loss'])\n",
    "\n",
    "plt.title('model loss')\n",
    "plt.ylabel('loss')\n",
    "plt.xlabel('epoch')\n",
    "plt.legend(['train','val'], loc='upper left')\n",
    "plt.show()"
   ]
  },
  {
   "cell_type": "markdown",
   "metadata": {},
   "source": [
    "### Persisting the model (for later use)"
   ]
  },
  {
   "cell_type": "code",
   "execution_count": null,
   "metadata": {},
   "outputs": [],
   "source": [
    "# Persisting tokenizer\n",
    "with open('model/tokenizer_v2.dill','wb') as f:\n",
    "    dill.dump(tokenizer, f)\n",
    "\n",
    "# Persisting model \n",
    "model.save('model/bi-lstm_v2')"
   ]
  }
 ],
 "metadata": {
  "kernelspec": {
   "display_name": "Python 3",
   "language": "python",
   "name": "python3"
  },
  "language_info": {
   "codemirror_mode": {
    "name": "ipython",
    "version": 3
   },
   "file_extension": ".py",
   "mimetype": "text/x-python",
   "name": "python",
   "nbconvert_exporter": "python",
   "pygments_lexer": "ipython3",
   "version": "3.7.4"
  }
 },
 "nbformat": 4,
 "nbformat_minor": 2
}
